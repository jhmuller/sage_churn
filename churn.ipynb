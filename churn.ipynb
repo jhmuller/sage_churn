{
 "cells": [
  {
   "cell_type": "markdown",
   "id": "0e3e429e",
   "metadata": {},
   "source": [
    "# Exploring Sagemaker notebooks on AWS\n",
    "\n",
    "In this notebook I will be trying to recreatea a notebook example\n",
    "from the AWS Sagemaker notebook examples, specifically from this page\n",
    "   https://sagemaker-examples.readthedocs.io/en/latest/introduction_to_applying_machine_learning/xgboost_customer_churn/xgboost_customer_churn_outputs.html\n",
    "   \n",
    "As you will see below I ran into some issues using XGBoost with the Sagemaker notebook \n",
    "so I decided to finish the modeling using Random Forest from SKlearn.\n",
    "\n",
    "That also presented some problems as the default version of sklearn is a bit old on the site.\n",
    "\n",
    "Anyway, more of an example of trying to make some of these cloud products work\n",
    "than a real novel data science project.\n",
    "\n",
    "But a worthy exercise in any case.\n",
    "\n",
    "Here we go ..."
   ]
  },
  {
   "cell_type": "markdown",
   "id": "2e6db923",
   "metadata": {},
   "source": [
    "## setup a sagemaker session"
   ]
  },
  {
   "cell_type": "code",
   "execution_count": 1,
   "id": "c2c16499",
   "metadata": {},
   "outputs": [],
   "source": [
    "import sagemaker\n",
    "\n",
    "sess = sagemaker.Session()\n",
    "bucket = sess.default_bucket()\n",
    "prefix = \"sagemaker/test-churn\"\n",
    "\n",
    "# Define IAM role\n",
    "import boto3\n",
    "import re\n",
    "from sagemaker import get_execution_role\n",
    "\n",
    "role = get_execution_role()"
   ]
  },
  {
   "cell_type": "code",
   "execution_count": 2,
   "id": "87d63531",
   "metadata": {},
   "outputs": [],
   "source": [
    "import pandas as pd\n",
    "import numpy as np\n",
    "import datetime\n",
    "import matplotlib.pyplot as plt\n",
    "import io\n",
    "import os\n",
    "import sys\n",
    "import time\n",
    "import json\n",
    "from IPython.display import display\n",
    "from time import strftime, gmtime\n",
    "from sagemaker.inputs import TrainingInput\n",
    "from sagemaker.serializers import CSVSerializer"
   ]
  },
  {
   "cell_type": "markdown",
   "id": "c52053d3",
   "metadata": {},
   "source": [
    "## Download the files from an S3 bucket"
   ]
  },
  {
   "cell_type": "code",
   "execution_count": 3,
   "id": "e5f965d8",
   "metadata": {},
   "outputs": [],
   "source": [
    "s3 = boto3.client(\"s3\")\n",
    "s3.download_file(f\"sagemaker-sample-files\", \"datasets/tabular/synthetic/churn.txt\", \"churn.txt\")"
   ]
  },
  {
   "cell_type": "markdown",
   "id": "df3647e1",
   "metadata": {},
   "source": [
    "## Load the file and preview"
   ]
  },
  {
   "cell_type": "code",
   "execution_count": 4,
   "id": "77f93395",
   "metadata": {},
   "outputs": [
    {
     "data": {
      "text/html": [
       "<div>\n",
       "<style scoped>\n",
       "    .dataframe tbody tr th:only-of-type {\n",
       "        vertical-align: middle;\n",
       "    }\n",
       "\n",
       "    .dataframe tbody tr th {\n",
       "        vertical-align: top;\n",
       "    }\n",
       "\n",
       "    .dataframe thead th {\n",
       "        text-align: right;\n",
       "    }\n",
       "</style>\n",
       "<table border=\"1\" class=\"dataframe\">\n",
       "  <thead>\n",
       "    <tr style=\"text-align: right;\">\n",
       "      <th></th>\n",
       "      <th>State</th>\n",
       "      <th>Account Length</th>\n",
       "      <th>Area Code</th>\n",
       "      <th>Phone</th>\n",
       "      <th>Int'l Plan</th>\n",
       "      <th>VMail Plan</th>\n",
       "      <th>VMail Message</th>\n",
       "      <th>Day Mins</th>\n",
       "      <th>Day Calls</th>\n",
       "      <th>Day Charge</th>\n",
       "      <th>Eve Mins</th>\n",
       "      <th>Eve Calls</th>\n",
       "      <th>Eve Charge</th>\n",
       "      <th>Night Mins</th>\n",
       "      <th>Night Calls</th>\n",
       "      <th>Night Charge</th>\n",
       "      <th>Intl Mins</th>\n",
       "      <th>Intl Calls</th>\n",
       "      <th>Intl Charge</th>\n",
       "      <th>CustServ Calls</th>\n",
       "      <th>Churn?</th>\n",
       "    </tr>\n",
       "  </thead>\n",
       "  <tbody>\n",
       "    <tr>\n",
       "      <th>0</th>\n",
       "      <td>PA</td>\n",
       "      <td>163</td>\n",
       "      <td>806</td>\n",
       "      <td>403-2562</td>\n",
       "      <td>no</td>\n",
       "      <td>yes</td>\n",
       "      <td>300</td>\n",
       "      <td>8.162204</td>\n",
       "      <td>3</td>\n",
       "      <td>7.579174</td>\n",
       "      <td>3.933035</td>\n",
       "      <td>4</td>\n",
       "      <td>6.508639</td>\n",
       "      <td>4.065759</td>\n",
       "      <td>100</td>\n",
       "      <td>5.111624</td>\n",
       "      <td>4.928160</td>\n",
       "      <td>6</td>\n",
       "      <td>5.673203</td>\n",
       "      <td>3</td>\n",
       "      <td>True.</td>\n",
       "    </tr>\n",
       "    <tr>\n",
       "      <th>1</th>\n",
       "      <td>SC</td>\n",
       "      <td>15</td>\n",
       "      <td>836</td>\n",
       "      <td>158-8416</td>\n",
       "      <td>yes</td>\n",
       "      <td>no</td>\n",
       "      <td>0</td>\n",
       "      <td>10.018993</td>\n",
       "      <td>4</td>\n",
       "      <td>4.226289</td>\n",
       "      <td>2.325005</td>\n",
       "      <td>0</td>\n",
       "      <td>9.972592</td>\n",
       "      <td>7.141040</td>\n",
       "      <td>200</td>\n",
       "      <td>6.436188</td>\n",
       "      <td>3.221748</td>\n",
       "      <td>6</td>\n",
       "      <td>2.559749</td>\n",
       "      <td>8</td>\n",
       "      <td>False.</td>\n",
       "    </tr>\n",
       "    <tr>\n",
       "      <th>2</th>\n",
       "      <td>MO</td>\n",
       "      <td>131</td>\n",
       "      <td>777</td>\n",
       "      <td>896-6253</td>\n",
       "      <td>no</td>\n",
       "      <td>yes</td>\n",
       "      <td>300</td>\n",
       "      <td>4.708490</td>\n",
       "      <td>3</td>\n",
       "      <td>4.768160</td>\n",
       "      <td>4.537466</td>\n",
       "      <td>3</td>\n",
       "      <td>4.566715</td>\n",
       "      <td>5.363235</td>\n",
       "      <td>100</td>\n",
       "      <td>5.142451</td>\n",
       "      <td>7.139023</td>\n",
       "      <td>2</td>\n",
       "      <td>6.254157</td>\n",
       "      <td>4</td>\n",
       "      <td>False.</td>\n",
       "    </tr>\n",
       "  </tbody>\n",
       "</table>\n",
       "</div>"
      ],
      "text/plain": [
       "  State  Account Length  Area Code     Phone Int'l Plan VMail Plan  \\\n",
       "0    PA             163        806  403-2562         no        yes   \n",
       "1    SC              15        836  158-8416        yes         no   \n",
       "2    MO             131        777  896-6253         no        yes   \n",
       "\n",
       "   VMail Message   Day Mins  Day Calls  Day Charge  Eve Mins  Eve Calls  \\\n",
       "0            300   8.162204          3    7.579174  3.933035          4   \n",
       "1              0  10.018993          4    4.226289  2.325005          0   \n",
       "2            300   4.708490          3    4.768160  4.537466          3   \n",
       "\n",
       "   Eve Charge  Night Mins  Night Calls  Night Charge  Intl Mins  Intl Calls  \\\n",
       "0    6.508639    4.065759          100      5.111624   4.928160           6   \n",
       "1    9.972592    7.141040          200      6.436188   3.221748           6   \n",
       "2    4.566715    5.363235          100      5.142451   7.139023           2   \n",
       "\n",
       "   Intl Charge  CustServ Calls  Churn?  \n",
       "0     5.673203               3   True.  \n",
       "1     2.559749               8  False.  \n",
       "2     6.254157               4  False.  "
      ]
     },
     "metadata": {},
     "output_type": "display_data"
    }
   ],
   "source": [
    "orig = pd.read_csv(\"./churn.txt\")\n",
    "pd.set_option(\"display.max_columns\", 500)\n",
    "display(orig.head(3))"
   ]
  },
  {
   "cell_type": "markdown",
   "id": "b7262315",
   "metadata": {},
   "source": [
    "## Description of the variables\n",
    "\n",
    "State: the US state in which the customer resides, indicated by a two-letter abbreviation; for example, OH or NJ\n",
    "\n",
    "Account Length: the number of days that this account has been active\n",
    "\n",
    "Area Code: the three-digit area code of the corresponding customer’s phone number\n",
    "\n",
    "Phone: the remaining seven-digit phone number\n",
    "\n",
    "Int’l Plan: whether the customer has an international calling plan: yes/no\n",
    "\n",
    "VMail Plan: whether the customer has a voice mail feature: yes/no\n",
    "\n",
    "VMail Message: the average number of voice mail messages per month\n",
    "\n",
    "Day Mins: the total number of calling minutes used during the day\n",
    "\n",
    "Day Calls: the total number of calls placed during the day\n",
    "\n",
    "Day Charge: the billed cost of daytime calls\n",
    "\n",
    "Eve Mins, Eve Calls, Eve Charge: the billed cost for calls placed during the evening\n",
    "\n",
    "Night Mins, Night Calls, Night Charge: the billed cost for calls placed during nighttime\n",
    "\n",
    "Intl Mins, Intl Calls, Intl Charge: the billed cost for international calls\n",
    "\n",
    "CustServ Calls: the number of calls placed to Customer Service\n",
    "\n",
    "Churn?: whether the customer left the service: true/false"
   ]
  },
  {
   "cell_type": "markdown",
   "id": "1536f4cb",
   "metadata": {},
   "source": [
    "## Let's look at correlations to see if any two predictive columns are too hightly correlated"
   ]
  },
  {
   "cell_type": "code",
   "execution_count": 5,
   "id": "9dbbd06f",
   "metadata": {},
   "outputs": [
    {
     "data": {
      "text/html": [
       "<div>\n",
       "<style scoped>\n",
       "    .dataframe tbody tr th:only-of-type {\n",
       "        vertical-align: middle;\n",
       "    }\n",
       "\n",
       "    .dataframe tbody tr th {\n",
       "        vertical-align: top;\n",
       "    }\n",
       "\n",
       "    .dataframe thead th {\n",
       "        text-align: right;\n",
       "    }\n",
       "</style>\n",
       "<table border=\"1\" class=\"dataframe\">\n",
       "  <thead>\n",
       "    <tr style=\"text-align: right;\">\n",
       "      <th></th>\n",
       "      <th>Account Length</th>\n",
       "      <th>Area Code</th>\n",
       "      <th>VMail Message</th>\n",
       "      <th>Day Mins</th>\n",
       "      <th>Day Calls</th>\n",
       "      <th>Day Charge</th>\n",
       "      <th>Eve Mins</th>\n",
       "      <th>Eve Calls</th>\n",
       "      <th>Eve Charge</th>\n",
       "      <th>Night Mins</th>\n",
       "      <th>Night Calls</th>\n",
       "      <th>Night Charge</th>\n",
       "      <th>Intl Mins</th>\n",
       "      <th>Intl Calls</th>\n",
       "      <th>Intl Charge</th>\n",
       "      <th>CustServ Calls</th>\n",
       "    </tr>\n",
       "  </thead>\n",
       "  <tbody>\n",
       "    <tr>\n",
       "      <th>Account Length</th>\n",
       "      <td>1.0</td>\n",
       "      <td>NaN</td>\n",
       "      <td>NaN</td>\n",
       "      <td>NaN</td>\n",
       "      <td>NaN</td>\n",
       "      <td>NaN</td>\n",
       "      <td>NaN</td>\n",
       "      <td>NaN</td>\n",
       "      <td>NaN</td>\n",
       "      <td>NaN</td>\n",
       "      <td>NaN</td>\n",
       "      <td>NaN</td>\n",
       "      <td>NaN</td>\n",
       "      <td>NaN</td>\n",
       "      <td>NaN</td>\n",
       "      <td>NaN</td>\n",
       "    </tr>\n",
       "    <tr>\n",
       "      <th>Area Code</th>\n",
       "      <td>NaN</td>\n",
       "      <td>1.0</td>\n",
       "      <td>NaN</td>\n",
       "      <td>NaN</td>\n",
       "      <td>NaN</td>\n",
       "      <td>NaN</td>\n",
       "      <td>NaN</td>\n",
       "      <td>NaN</td>\n",
       "      <td>NaN</td>\n",
       "      <td>NaN</td>\n",
       "      <td>NaN</td>\n",
       "      <td>NaN</td>\n",
       "      <td>NaN</td>\n",
       "      <td>NaN</td>\n",
       "      <td>NaN</td>\n",
       "      <td>NaN</td>\n",
       "    </tr>\n",
       "    <tr>\n",
       "      <th>VMail Message</th>\n",
       "      <td>NaN</td>\n",
       "      <td>NaN</td>\n",
       "      <td>1.0</td>\n",
       "      <td>NaN</td>\n",
       "      <td>NaN</td>\n",
       "      <td>NaN</td>\n",
       "      <td>NaN</td>\n",
       "      <td>NaN</td>\n",
       "      <td>NaN</td>\n",
       "      <td>NaN</td>\n",
       "      <td>NaN</td>\n",
       "      <td>NaN</td>\n",
       "      <td>NaN</td>\n",
       "      <td>NaN</td>\n",
       "      <td>NaN</td>\n",
       "      <td>NaN</td>\n",
       "    </tr>\n",
       "    <tr>\n",
       "      <th>Day Mins</th>\n",
       "      <td>NaN</td>\n",
       "      <td>NaN</td>\n",
       "      <td>NaN</td>\n",
       "      <td>1.000000</td>\n",
       "      <td>NaN</td>\n",
       "      <td>0.667941</td>\n",
       "      <td>NaN</td>\n",
       "      <td>NaN</td>\n",
       "      <td>0.766489</td>\n",
       "      <td>NaN</td>\n",
       "      <td>NaN</td>\n",
       "      <td>NaN</td>\n",
       "      <td>NaN</td>\n",
       "      <td>NaN</td>\n",
       "      <td>NaN</td>\n",
       "      <td>NaN</td>\n",
       "    </tr>\n",
       "    <tr>\n",
       "      <th>Day Calls</th>\n",
       "      <td>NaN</td>\n",
       "      <td>NaN</td>\n",
       "      <td>NaN</td>\n",
       "      <td>NaN</td>\n",
       "      <td>1.0</td>\n",
       "      <td>NaN</td>\n",
       "      <td>NaN</td>\n",
       "      <td>NaN</td>\n",
       "      <td>NaN</td>\n",
       "      <td>NaN</td>\n",
       "      <td>NaN</td>\n",
       "      <td>NaN</td>\n",
       "      <td>NaN</td>\n",
       "      <td>NaN</td>\n",
       "      <td>NaN</td>\n",
       "      <td>NaN</td>\n",
       "    </tr>\n",
       "    <tr>\n",
       "      <th>Day Charge</th>\n",
       "      <td>NaN</td>\n",
       "      <td>NaN</td>\n",
       "      <td>NaN</td>\n",
       "      <td>0.667941</td>\n",
       "      <td>NaN</td>\n",
       "      <td>1.000000</td>\n",
       "      <td>NaN</td>\n",
       "      <td>NaN</td>\n",
       "      <td>NaN</td>\n",
       "      <td>NaN</td>\n",
       "      <td>NaN</td>\n",
       "      <td>NaN</td>\n",
       "      <td>NaN</td>\n",
       "      <td>NaN</td>\n",
       "      <td>NaN</td>\n",
       "      <td>NaN</td>\n",
       "    </tr>\n",
       "    <tr>\n",
       "      <th>Eve Mins</th>\n",
       "      <td>NaN</td>\n",
       "      <td>NaN</td>\n",
       "      <td>NaN</td>\n",
       "      <td>NaN</td>\n",
       "      <td>NaN</td>\n",
       "      <td>NaN</td>\n",
       "      <td>1.0</td>\n",
       "      <td>NaN</td>\n",
       "      <td>NaN</td>\n",
       "      <td>NaN</td>\n",
       "      <td>NaN</td>\n",
       "      <td>NaN</td>\n",
       "      <td>NaN</td>\n",
       "      <td>NaN</td>\n",
       "      <td>NaN</td>\n",
       "      <td>NaN</td>\n",
       "    </tr>\n",
       "    <tr>\n",
       "      <th>Eve Calls</th>\n",
       "      <td>NaN</td>\n",
       "      <td>NaN</td>\n",
       "      <td>NaN</td>\n",
       "      <td>NaN</td>\n",
       "      <td>NaN</td>\n",
       "      <td>NaN</td>\n",
       "      <td>NaN</td>\n",
       "      <td>1.0</td>\n",
       "      <td>NaN</td>\n",
       "      <td>NaN</td>\n",
       "      <td>NaN</td>\n",
       "      <td>NaN</td>\n",
       "      <td>NaN</td>\n",
       "      <td>NaN</td>\n",
       "      <td>NaN</td>\n",
       "      <td>NaN</td>\n",
       "    </tr>\n",
       "    <tr>\n",
       "      <th>Eve Charge</th>\n",
       "      <td>NaN</td>\n",
       "      <td>NaN</td>\n",
       "      <td>NaN</td>\n",
       "      <td>0.766489</td>\n",
       "      <td>NaN</td>\n",
       "      <td>NaN</td>\n",
       "      <td>NaN</td>\n",
       "      <td>NaN</td>\n",
       "      <td>1.000000</td>\n",
       "      <td>NaN</td>\n",
       "      <td>NaN</td>\n",
       "      <td>NaN</td>\n",
       "      <td>NaN</td>\n",
       "      <td>NaN</td>\n",
       "      <td>NaN</td>\n",
       "      <td>NaN</td>\n",
       "    </tr>\n",
       "    <tr>\n",
       "      <th>Night Mins</th>\n",
       "      <td>NaN</td>\n",
       "      <td>NaN</td>\n",
       "      <td>NaN</td>\n",
       "      <td>NaN</td>\n",
       "      <td>NaN</td>\n",
       "      <td>NaN</td>\n",
       "      <td>NaN</td>\n",
       "      <td>NaN</td>\n",
       "      <td>NaN</td>\n",
       "      <td>1.0</td>\n",
       "      <td>NaN</td>\n",
       "      <td>NaN</td>\n",
       "      <td>NaN</td>\n",
       "      <td>NaN</td>\n",
       "      <td>NaN</td>\n",
       "      <td>NaN</td>\n",
       "    </tr>\n",
       "    <tr>\n",
       "      <th>Night Calls</th>\n",
       "      <td>NaN</td>\n",
       "      <td>NaN</td>\n",
       "      <td>NaN</td>\n",
       "      <td>NaN</td>\n",
       "      <td>NaN</td>\n",
       "      <td>NaN</td>\n",
       "      <td>NaN</td>\n",
       "      <td>NaN</td>\n",
       "      <td>NaN</td>\n",
       "      <td>NaN</td>\n",
       "      <td>1.0</td>\n",
       "      <td>NaN</td>\n",
       "      <td>NaN</td>\n",
       "      <td>NaN</td>\n",
       "      <td>NaN</td>\n",
       "      <td>NaN</td>\n",
       "    </tr>\n",
       "    <tr>\n",
       "      <th>Night Charge</th>\n",
       "      <td>NaN</td>\n",
       "      <td>NaN</td>\n",
       "      <td>NaN</td>\n",
       "      <td>NaN</td>\n",
       "      <td>NaN</td>\n",
       "      <td>NaN</td>\n",
       "      <td>NaN</td>\n",
       "      <td>NaN</td>\n",
       "      <td>NaN</td>\n",
       "      <td>NaN</td>\n",
       "      <td>NaN</td>\n",
       "      <td>1.0</td>\n",
       "      <td>NaN</td>\n",
       "      <td>NaN</td>\n",
       "      <td>NaN</td>\n",
       "      <td>NaN</td>\n",
       "    </tr>\n",
       "    <tr>\n",
       "      <th>Intl Mins</th>\n",
       "      <td>NaN</td>\n",
       "      <td>NaN</td>\n",
       "      <td>NaN</td>\n",
       "      <td>NaN</td>\n",
       "      <td>NaN</td>\n",
       "      <td>NaN</td>\n",
       "      <td>NaN</td>\n",
       "      <td>NaN</td>\n",
       "      <td>NaN</td>\n",
       "      <td>NaN</td>\n",
       "      <td>NaN</td>\n",
       "      <td>NaN</td>\n",
       "      <td>1.0</td>\n",
       "      <td>NaN</td>\n",
       "      <td>NaN</td>\n",
       "      <td>NaN</td>\n",
       "    </tr>\n",
       "    <tr>\n",
       "      <th>Intl Calls</th>\n",
       "      <td>NaN</td>\n",
       "      <td>NaN</td>\n",
       "      <td>NaN</td>\n",
       "      <td>NaN</td>\n",
       "      <td>NaN</td>\n",
       "      <td>NaN</td>\n",
       "      <td>NaN</td>\n",
       "      <td>NaN</td>\n",
       "      <td>NaN</td>\n",
       "      <td>NaN</td>\n",
       "      <td>NaN</td>\n",
       "      <td>NaN</td>\n",
       "      <td>NaN</td>\n",
       "      <td>1.0</td>\n",
       "      <td>NaN</td>\n",
       "      <td>NaN</td>\n",
       "    </tr>\n",
       "    <tr>\n",
       "      <th>Intl Charge</th>\n",
       "      <td>NaN</td>\n",
       "      <td>NaN</td>\n",
       "      <td>NaN</td>\n",
       "      <td>NaN</td>\n",
       "      <td>NaN</td>\n",
       "      <td>NaN</td>\n",
       "      <td>NaN</td>\n",
       "      <td>NaN</td>\n",
       "      <td>NaN</td>\n",
       "      <td>NaN</td>\n",
       "      <td>NaN</td>\n",
       "      <td>NaN</td>\n",
       "      <td>NaN</td>\n",
       "      <td>NaN</td>\n",
       "      <td>1.0</td>\n",
       "      <td>NaN</td>\n",
       "    </tr>\n",
       "    <tr>\n",
       "      <th>CustServ Calls</th>\n",
       "      <td>NaN</td>\n",
       "      <td>NaN</td>\n",
       "      <td>NaN</td>\n",
       "      <td>NaN</td>\n",
       "      <td>NaN</td>\n",
       "      <td>NaN</td>\n",
       "      <td>NaN</td>\n",
       "      <td>NaN</td>\n",
       "      <td>NaN</td>\n",
       "      <td>NaN</td>\n",
       "      <td>NaN</td>\n",
       "      <td>NaN</td>\n",
       "      <td>NaN</td>\n",
       "      <td>NaN</td>\n",
       "      <td>NaN</td>\n",
       "      <td>1.0</td>\n",
       "    </tr>\n",
       "  </tbody>\n",
       "</table>\n",
       "</div>"
      ],
      "text/plain": [
       "                Account Length  Area Code  VMail Message  Day Mins  Day Calls  \\\n",
       "Account Length             1.0        NaN            NaN       NaN        NaN   \n",
       "Area Code                  NaN        1.0            NaN       NaN        NaN   \n",
       "VMail Message              NaN        NaN            1.0       NaN        NaN   \n",
       "Day Mins                   NaN        NaN            NaN  1.000000        NaN   \n",
       "Day Calls                  NaN        NaN            NaN       NaN        1.0   \n",
       "Day Charge                 NaN        NaN            NaN  0.667941        NaN   \n",
       "Eve Mins                   NaN        NaN            NaN       NaN        NaN   \n",
       "Eve Calls                  NaN        NaN            NaN       NaN        NaN   \n",
       "Eve Charge                 NaN        NaN            NaN  0.766489        NaN   \n",
       "Night Mins                 NaN        NaN            NaN       NaN        NaN   \n",
       "Night Calls                NaN        NaN            NaN       NaN        NaN   \n",
       "Night Charge               NaN        NaN            NaN       NaN        NaN   \n",
       "Intl Mins                  NaN        NaN            NaN       NaN        NaN   \n",
       "Intl Calls                 NaN        NaN            NaN       NaN        NaN   \n",
       "Intl Charge                NaN        NaN            NaN       NaN        NaN   \n",
       "CustServ Calls             NaN        NaN            NaN       NaN        NaN   \n",
       "\n",
       "                Day Charge  Eve Mins  Eve Calls  Eve Charge  Night Mins  \\\n",
       "Account Length         NaN       NaN        NaN         NaN         NaN   \n",
       "Area Code              NaN       NaN        NaN         NaN         NaN   \n",
       "VMail Message          NaN       NaN        NaN         NaN         NaN   \n",
       "Day Mins          0.667941       NaN        NaN    0.766489         NaN   \n",
       "Day Calls              NaN       NaN        NaN         NaN         NaN   \n",
       "Day Charge        1.000000       NaN        NaN         NaN         NaN   \n",
       "Eve Mins               NaN       1.0        NaN         NaN         NaN   \n",
       "Eve Calls              NaN       NaN        1.0         NaN         NaN   \n",
       "Eve Charge             NaN       NaN        NaN    1.000000         NaN   \n",
       "Night Mins             NaN       NaN        NaN         NaN         1.0   \n",
       "Night Calls            NaN       NaN        NaN         NaN         NaN   \n",
       "Night Charge           NaN       NaN        NaN         NaN         NaN   \n",
       "Intl Mins              NaN       NaN        NaN         NaN         NaN   \n",
       "Intl Calls             NaN       NaN        NaN         NaN         NaN   \n",
       "Intl Charge            NaN       NaN        NaN         NaN         NaN   \n",
       "CustServ Calls         NaN       NaN        NaN         NaN         NaN   \n",
       "\n",
       "                Night Calls  Night Charge  Intl Mins  Intl Calls  Intl Charge  \\\n",
       "Account Length          NaN           NaN        NaN         NaN          NaN   \n",
       "Area Code               NaN           NaN        NaN         NaN          NaN   \n",
       "VMail Message           NaN           NaN        NaN         NaN          NaN   \n",
       "Day Mins                NaN           NaN        NaN         NaN          NaN   \n",
       "Day Calls               NaN           NaN        NaN         NaN          NaN   \n",
       "Day Charge              NaN           NaN        NaN         NaN          NaN   \n",
       "Eve Mins                NaN           NaN        NaN         NaN          NaN   \n",
       "Eve Calls               NaN           NaN        NaN         NaN          NaN   \n",
       "Eve Charge              NaN           NaN        NaN         NaN          NaN   \n",
       "Night Mins              NaN           NaN        NaN         NaN          NaN   \n",
       "Night Calls             1.0           NaN        NaN         NaN          NaN   \n",
       "Night Charge            NaN           1.0        NaN         NaN          NaN   \n",
       "Intl Mins               NaN           NaN        1.0         NaN          NaN   \n",
       "Intl Calls              NaN           NaN        NaN         1.0          NaN   \n",
       "Intl Charge             NaN           NaN        NaN         NaN          1.0   \n",
       "CustServ Calls          NaN           NaN        NaN         NaN          NaN   \n",
       "\n",
       "                CustServ Calls  \n",
       "Account Length             NaN  \n",
       "Area Code                  NaN  \n",
       "VMail Message              NaN  \n",
       "Day Mins                   NaN  \n",
       "Day Calls                  NaN  \n",
       "Day Charge                 NaN  \n",
       "Eve Mins                   NaN  \n",
       "Eve Calls                  NaN  \n",
       "Eve Charge                 NaN  \n",
       "Night Mins                 NaN  \n",
       "Night Calls                NaN  \n",
       "Night Charge               NaN  \n",
       "Intl Mins                  NaN  \n",
       "Intl Calls                 NaN  \n",
       "Intl Charge                NaN  \n",
       "CustServ Calls             1.0  "
      ]
     },
     "execution_count": 5,
     "metadata": {},
     "output_type": "execute_result"
    }
   ],
   "source": [
    "cordf = orig.corr()\n",
    "cordf[cordf > 0.6]"
   ]
  },
  {
   "cell_type": "code",
   "execution_count": 6,
   "id": "4fcffc9a",
   "metadata": {},
   "outputs": [],
   "source": [
    "#Let's see if any of the predictors are hightly correlated\n"
   ]
  },
  {
   "cell_type": "markdown",
   "id": "dfcc30d2",
   "metadata": {},
   "source": [
    "A few of the correlations seem high, e.g. Eve. Charge and Day Mins, but I am not going to worry to much about it  \n",
    "\n",
    "since I plan to use a tree based method.  \n",
    "\n",
    "In the example I borrowed from they removed some variables.\n",
    "\n",
    "I think I will remove [\"Area Code\", \"Phone\", and \"State\"] \n",
    "\n",
    "since those are all geographic and have a lot of disctint values"
   ]
  },
  {
   "cell_type": "code",
   "execution_count": 7,
   "id": "b433713c",
   "metadata": {},
   "outputs": [],
   "source": [
    "churn = orig.drop(labels=[\"Area Code\", \"State\", \"Phone\"], axis=1)"
   ]
  },
  {
   "cell_type": "markdown",
   "id": "8ab9ab9b",
   "metadata": {},
   "source": [
    "## Categorical Variables\n",
    "\n",
    "let's look at the columns that have categorical variables\n",
    "\n",
    "Not a problem with some tree methods but they have to be converted for XGBoost"
   ]
  },
  {
   "cell_type": "code",
   "execution_count": 8,
   "id": "3fc84ee8",
   "metadata": {},
   "outputs": [
    {
     "name": "stdout",
     "output_type": "stream",
     "text": [
      "Int'l Plan\n"
     ]
    },
    {
     "data": {
      "text/plain": [
       "no     2507\n",
       "yes    2493\n",
       "Name: Int'l Plan, dtype: int64"
      ]
     },
     "metadata": {},
     "output_type": "display_data"
    },
    {
     "name": "stdout",
     "output_type": "stream",
     "text": [
      "--\n",
      "VMail Plan\n"
     ]
    },
    {
     "data": {
      "text/plain": [
       "yes    2512\n",
       "no     2488\n",
       "Name: VMail Plan, dtype: int64"
      ]
     },
     "metadata": {},
     "output_type": "display_data"
    },
    {
     "name": "stdout",
     "output_type": "stream",
     "text": [
      "--\n",
      "Churn?\n"
     ]
    },
    {
     "data": {
      "text/plain": [
       "False.    2502\n",
       "True.     2498\n",
       "Name: Churn?, dtype: int64"
      ]
     },
     "metadata": {},
     "output_type": "display_data"
    },
    {
     "name": "stdout",
     "output_type": "stream",
     "text": [
      "--\n"
     ]
    }
   ],
   "source": [
    "obj_cols = [idx for idx, val in churn.dtypes.iteritems() if val == 'object']\n",
    "for oc in obj_cols:\n",
    "    print(oc)\n",
    "    display(churn[oc].value_counts(dropna=False))\n",
    "    print(\"--\")"
   ]
  },
  {
   "cell_type": "markdown",
   "id": "21942e7b",
   "metadata": {},
   "source": [
    "### Convert to numeric"
   ]
  },
  {
   "cell_type": "code",
   "execution_count": 9,
   "id": "a72d5760",
   "metadata": {},
   "outputs": [],
   "source": [
    "churn.replace({\"Int'l Plan\":{'no': 0, 'yes': 1}}, inplace=True)\n",
    "churn.replace({\"VMail Plan\":{'no': 0, 'yes': 1}}, inplace=True)\n",
    "churn.replace({\"Churn?\":{'False.': 0, 'True.': 1}}, inplace=True)"
   ]
  },
  {
   "cell_type": "code",
   "execution_count": 10,
   "id": "8fd81c2a",
   "metadata": {},
   "outputs": [
    {
     "data": {
      "text/plain": [
       "Account Length      int64\n",
       "Int'l Plan          int64\n",
       "VMail Plan          int64\n",
       "VMail Message       int64\n",
       "Day Mins          float64\n",
       "Day Calls           int64\n",
       "Day Charge        float64\n",
       "Eve Mins          float64\n",
       "Eve Calls           int64\n",
       "Eve Charge        float64\n",
       "Night Mins        float64\n",
       "Night Calls         int64\n",
       "Night Charge      float64\n",
       "Intl Mins         float64\n",
       "Intl Calls          int64\n",
       "Intl Charge       float64\n",
       "CustServ Calls      int64\n",
       "Churn?              int64\n",
       "dtype: object"
      ]
     },
     "execution_count": 10,
     "metadata": {},
     "output_type": "execute_result"
    }
   ],
   "source": [
    "#check to make sure everythin is numeric\n",
    "churn.dtypes"
   ]
  },
  {
   "cell_type": "markdown",
   "id": "12be9c87",
   "metadata": {},
   "source": [
    "### Split the dataset into train, validation and test"
   ]
  },
  {
   "cell_type": "code",
   "execution_count": 11,
   "id": "fb185025",
   "metadata": {},
   "outputs": [
    {
     "name": "stdout",
     "output_type": "stream",
     "text": [
      "5000 4550 450 500\n"
     ]
    }
   ],
   "source": [
    "def df_split(df, pct=0.1):\n",
    "    idx = df.index\n",
    "    b_size = int(np.floor(len(idx) * 0.1))\n",
    "    b_idx = np.random.choice(idx, b_size, replace=False)\n",
    "    b = churn.loc[b_idx]\n",
    "    a = churn.drop(b_idx, axis=0)    \n",
    "    return a, b\n",
    "train_val,  test = df_split(churn, pct=0.1)\n",
    "train, validation = df_split(train_val, pct=0.1)\n",
    "print(churn.shape[0], train.shape[0], validation.shape[0], test.shape[0])\n",
    "\n",
    "train.to_csv(\"train.csv\", header=False, index=False)\n",
    "validation.to_csv(\"validation.csv\", header=False, index=False)\n",
    "test.to_csv(\"test.csv\", header=False, index=False)"
   ]
  },
  {
   "cell_type": "markdown",
   "id": "20e3d67d",
   "metadata": {},
   "source": [
    "# Sagemaker specific stuff"
   ]
  },
  {
   "cell_type": "code",
   "execution_count": 12,
   "id": "dfe62773",
   "metadata": {},
   "outputs": [],
   "source": [
    "for dset in [\"train\", 'validation']:\n",
    "    boto3.Session().resource(\"s3\").Bucket(bucket).Object(\n",
    "    os.path.join(prefix, f\"{dset}/{dset}.csv\")).upload_file(f\"{dset}.csv\")"
   ]
  },
  {
   "cell_type": "code",
   "execution_count": 13,
   "id": "5bc6305e",
   "metadata": {},
   "outputs": [
    {
     "data": {
      "text/plain": [
       "'683313688378.dkr.ecr.us-east-1.amazonaws.com/sagemaker-xgboost:1.5-1'"
      ]
     },
     "metadata": {},
     "output_type": "display_data"
    }
   ],
   "source": [
    "container = sagemaker.image_uris.retrieve(\"xgboost\", sess.boto_region_name, \"1.5-1\")\n",
    "display(container)"
   ]
  },
  {
   "cell_type": "code",
   "execution_count": 14,
   "id": "94648b81",
   "metadata": {},
   "outputs": [],
   "source": [
    "s3_input_train = TrainingInput(\n",
    "    s3_data=\"s3://{}/{}/train\".format(bucket, prefix), content_type=\"csv\"\n",
    ")\n",
    "\n",
    "s3_input_validation = TrainingInput(\n",
    "    s3_data=\"s3://{}/{}/validation/\".format(bucket, prefix), content_type=\"csv\")"
   ]
  },
  {
   "cell_type": "code",
   "execution_count": 15,
   "id": "e43d2274",
   "metadata": {},
   "outputs": [
    {
     "data": {
      "text/plain": [
       "<sagemaker.inputs.TrainingInput at 0x7fbbd081a640>"
      ]
     },
     "execution_count": 15,
     "metadata": {},
     "output_type": "execute_result"
    }
   ],
   "source": [
    "s3_input_validation"
   ]
  },
  {
   "cell_type": "code",
   "execution_count": 16,
   "id": "66706886",
   "metadata": {},
   "outputs": [],
   "source": [
    "sess = sagemaker.Session()\n",
    "\n",
    "xgb = sagemaker.estimator.Estimator(\n",
    "    container,\n",
    "    role,\n",
    "    instance_count=1,\n",
    "    instance_type= \"ml.m4.xlarge\",\n",
    "    output_path=\"s3://{}/{}/output\".format(bucket, prefix),\n",
    "    sagemaker_session=sess,\n",
    ")\n",
    "xgb.set_hyperparameters(\n",
    "    max_depth=5,\n",
    "    eta=0.2,\n",
    "    gamma=4,\n",
    "    min_child_weight=6,\n",
    "    subsample=0.8,\n",
    "    verbosity=0,\n",
    "    objective=\"binary:logistic\",\n",
    "    num_round=100,\n",
    ")"
   ]
  },
  {
   "cell_type": "markdown",
   "id": "b6346844",
   "metadata": {},
   "source": [
    "## Fitting\n",
    "Now we should be ready to fit the model.\n",
    "At first I had an issus that I had no resources to allocate.\n",
    "A few google searches let me to open an AWS ticket to get that resolved.\n",
    "And it was fairly quickly.\n",
    "\n",
    "But there still are some issues as can be seen from the error messages below"
   ]
  },
  {
   "cell_type": "code",
   "execution_count": 17,
   "id": "357dc105",
   "metadata": {},
   "outputs": [
    {
     "name": "stdout",
     "output_type": "stream",
     "text": [
      "2022-11-13 15:37:44 Starting - Starting the training job...ProfilerReport-1668353864: InProgress\n",
      "...\n",
      "2022-11-13 15:38:28 Starting - Preparing the instances for training............\n",
      "2022-11-13 15:40:32 Downloading - Downloading input data...\n",
      "2022-11-13 15:41:10 Training - Training image download completed. Training in progress...\u001b[34m[2022-11-13 15:41:26.569 ip-10-2-155-235.ec2.internal:7 INFO utils.py:27] RULE_JOB_STOP_SIGNAL_FILENAME: None\u001b[0m\n",
      "\u001b[34m[2022-11-13:15:41:26:INFO] Imported framework sagemaker_xgboost_container.training\u001b[0m\n",
      "\u001b[34m[2022-11-13:15:41:26:INFO] Failed to parse hyperparameter objective value binary:logistic to Json.\u001b[0m\n",
      "\u001b[34mReturning the value itself\u001b[0m\n",
      "\u001b[34m[2022-11-13:15:41:26:INFO] No GPUs detected (normal if no gpus installed)\u001b[0m\n",
      "\u001b[34m[2022-11-13:15:41:26:INFO] Running XGBoost Sagemaker in algorithm mode\u001b[0m\n",
      "\u001b[34m[2022-11-13:15:41:26:INFO] Determined delimiter of CSV input is ','\u001b[0m\n",
      "\u001b[34m[2022-11-13:15:41:26:INFO] Determined delimiter of CSV input is ','\u001b[0m\n",
      "\u001b[34m[2022-11-13:15:41:26:INFO] files path: /opt/ml/input/data/train\u001b[0m\n",
      "\u001b[34m[2022-11-13:15:41:26:INFO] Determined delimiter of CSV input is ','\u001b[0m\n",
      "\u001b[34m[2022-11-13:15:41:26:INFO] files path: /opt/ml/input/data/validation\u001b[0m\n",
      "\u001b[34m[2022-11-13:15:41:26:INFO] Determined delimiter of CSV input is ','\u001b[0m\n",
      "\u001b[34m[2022-11-13:15:41:26:INFO] Single node training.\u001b[0m\n",
      "\u001b[34m[2022-11-13:15:41:26:INFO] Train matrix has 4550 rows and 17 columns\u001b[0m\n",
      "\u001b[34m[2022-11-13:15:41:26:INFO] Validation matrix has 450 rows\u001b[0m\n",
      "\u001b[34m[2022-11-13 15:41:26.667 ip-10-2-155-235.ec2.internal:7 INFO json_config.py:91] Creating hook from json_config at /opt/ml/input/config/debughookconfig.json.\u001b[0m\n",
      "\u001b[34m[2022-11-13:15:41:26:ERROR] Reporting training FAILURE\u001b[0m\n",
      "\u001b[34m[2022-11-13:15:41:26:ERROR] framework error: \u001b[0m\n",
      "\u001b[34mTraceback (most recent call last):\n",
      "  File \"/miniconda3/lib/python3.8/site-packages/sagemaker_xgboost_container/algorithm_mode/train.py\", line 278, in train_job\n",
      "    bst = xgb.train(\n",
      "  File \"/miniconda3/lib/python3.8/site-packages/xgboost/training.py\", line 188, in train\n",
      "    bst = _train_internal(params, dtrain,\n",
      "  File \"/miniconda3/lib/python3.8/site-packages/xgboost/training.py\", line 81, in _train_internal\n",
      "    bst.update(dtrain, i, obj)\n",
      "  File \"/miniconda3/lib/python3.8/site-packages/xgboost/core.py\", line 1680, in update\n",
      "    _check_call(_LIB.XGBoosterUpdateOneIter(self.handle,\n",
      "  File \"/miniconda3/lib/python3.8/site-packages/xgboost/core.py\", line 218, in _check_call\n",
      "    raise XGBoostError(py_str(_LIB.XGBGetLastError()))\u001b[0m\n",
      "\u001b[34mxgboost.core.XGBoostError: [15:41:26] ../src/objective/regression_obj.cu:120: label must be in [0,1] for logistic regression\u001b[0m\n",
      "\u001b[34mStack trace:\n",
      "  [bt] (0) /miniconda3/lib/python3.8/site-packages/xgboost/lib/libxgboost.so(+0x455ac9) [0x7f86d6229ac9]\n",
      "  [bt] (1) /miniconda3/lib/python3.8/site-packages/xgboost/lib/libxgboost.so(+0x46a0b0) [0x7f86d623e0b0]\n",
      "  [bt] (2) /miniconda3/lib/python3.8/site-packages/xgboost/lib/libxgboost.so(+0x1b4990) [0x7f86d5f88990]\n",
      "  [bt] (3) /miniconda3/lib/python3.8/site-packages/xgboost/lib/libxgboost.so(XGBoosterUpdateOneIter+0x68) [0x7f86d5e6d4f8]\n",
      "  [bt] (4) /miniconda3/lib/python3.8/lib-dynload/../../libffi.so.7(+0x69dd) [0x7f8722ab39dd]\n",
      "  [bt] (5) /miniconda3/lib/python3.8/lib-dynload/../../libffi.so.7(+0x6067) [0x7f8722ab3067]\n",
      "  [bt] (6) /miniconda3/lib/python3.8/lib-dynload/_ctypes.cpython-38-x86_64-linux-gnu.so(_ctypes_callproc+0x319) [0x7f8716bf01e9]\n",
      "  [bt] (7) /miniconda3/lib/python3.8/lib-dynload/_ctypes.cpython-38-x86_64-linux-gnu.so(+0x13c95) [0x7f8716bf0c95]\n",
      "  [bt] (8) /miniconda3/bin/python3(_PyObject_MakeTpCall+0x3bf) [0x56471b5bf13f]\u001b[0m\n",
      "\u001b[34mDuring handling of the above exception, another exception occurred:\u001b[0m\n",
      "\u001b[34mTraceback (most recent call last):\n",
      "  File \"/miniconda3/lib/python3.8/site-packages/sagemaker_containers/_trainer.py\", line 84, in train\n",
      "    entrypoint()\n",
      "  File \"/miniconda3/lib/python3.8/site-packages/sagemaker_xgboost_container/training.py\", line 102, in main\n",
      "    train(framework.training_env())\n",
      "  File \"/miniconda3/lib/python3.8/site-packages/sagemaker_xgboost_container/training.py\", line 98, in train\n",
      "    run_algorithm_mode()\n",
      "  File \"/miniconda3/lib/python3.8/site-packages/sagemaker_xgboost_container/training.py\", line 64, in run_algorithm_mode\n",
      "    sagemaker_train(\n",
      "  File \"/miniconda3/lib/python3.8/site-packages/sagemaker_xgboost_container/algorithm_mode/train.py\", line 210, in sagemaker_train\n",
      "    train_job(**train_args)\n",
      "  File \"/miniconda3/lib/python3.8/site-packages/sagemaker_xgboost_container/algorithm_mode/train.py\", line 373, in train_job\n",
      "    raise exc.UserError(str(e))\u001b[0m\n",
      "\u001b[34msagemaker_algorithm_toolkit.exceptions.UserError: [15:41:26] ../src/objective/regression_obj.cu:120: label must be in [0,1] for logistic regression\u001b[0m\n",
      "\u001b[34mStack trace:\n",
      "  [bt] (0) /miniconda3/lib/python3.8/site-packages/xgboost/lib/libxgboost.so(+0x455ac9) [0x7f86d6229ac9]\n",
      "  [bt] (1) /miniconda3/lib/python3.8/site-packages/xgboost/lib/libxgboost.so(+0x46a0b0) [0x7f86d623e0b0]\n",
      "  [bt] (2) /miniconda3/lib/python3.8/site-packages/xgboost/lib/libxgboost.so(+0x1b4990) [0x7f86d5f88990]\n",
      "  [bt] (3) /miniconda3/lib/python3.8/site-packages/xgboost/lib/libxgboost.so(XGBoosterUpdateOneIter+0x68) [0x7f86d5e6d4f8]\n",
      "  [bt] (4) /miniconda3/lib/python3.8/lib-dynload/../../libffi.so.7(+0x69dd) [0x7f8722ab39dd]\n",
      "  [bt] (5) /miniconda3/lib/python3.8/lib-dynload/../../libffi.so.7(+0x6067) [0x7f8722ab3067]\n",
      "  [bt] (6) /miniconda3/lib/python3.8/lib-dynload/_ctypes.cpython-38-x86_64-linux-gnu.so(_ctypes_callproc+0x319) [0x7f8716bf01e9]\n",
      "  [bt] (7) /miniconda3/lib/python3.8/lib-dynload/_ctypes.cpython-38-x86_64-linux-gnu.so(+0x13c95) [0x7f8716bf0c95]\n",
      "  [bt] (8) /miniconda3/bin/python3(_PyObject_MakeTpCall+0x3bf) [0x56471b5bf13f]\u001b[0m\n",
      "\u001b[34m[15:41:26] ../src/objective/regression_obj.cu:120: label must be in [0,1] for logistic regression\u001b[0m\n",
      "\u001b[34mStack trace:\n",
      "  [bt] (0) /miniconda3/lib/python3.8/site-packages/xgboost/lib/libxgboost.so(+0x455ac9) [0x7f86d6229ac9]\n",
      "  [bt] (1) /miniconda3/lib/python3.8/site-packages/xgboost/lib/libxgboost.so(+0x46a0b0) [0x7f86d623e0b0]\n",
      "  [bt] (2) /miniconda3/lib/python3.8/site-packages/xgboost/lib/libxgboost.so(+0x1b4990) [0x7f86d5f88990]\n",
      "  [bt] (3) /miniconda3/lib/python3.8/site-packages/xgboost/lib/libxgboost.so(XGBoosterUpdateOneIter+0x68) [0x7f86d5e6d4f8]\n",
      "  [bt] (4) /miniconda3/lib/python3.8/lib-dynload/../../libffi.so.7(+0x69dd) [0x7f8722ab39dd]\n",
      "  [bt] (5) /miniconda3/lib/python3.8/lib-dynload/../../libffi.so.7(+0x6067) [0x7f8722ab3067]\n",
      "  [bt] (6) /miniconda3/lib/python3.8/lib-dynload/_ctypes.cpython-38-x86_64-linux-gnu.so(_ctypes_callproc+0x319) [0x7f8716bf01e9]\n",
      "  [bt] (7) /miniconda3/lib/python3.8/lib-dynload/_ctypes.cpython-38-x86_64-linux-gnu.so(+0x13c95) [0x7f8716bf0c95]\n",
      "  [bt] (8) /miniconda3/bin/python3(_PyObject_MakeTpCall+0x3bf) [0x56471b5bf13f]\u001b[0m\n",
      "\n",
      "2022-11-13 15:41:45 Uploading - Uploading generated training model\n",
      "2022-11-13 15:41:45 Failed - Training job failed\n"
     ]
    },
    {
     "ename": "UnexpectedStatusException",
     "evalue": "Error for Training job sagemaker-xgboost-2022-11-13-15-37-44-854: Failed. Reason: AlgorithmError: framework error: \nTraceback (most recent call last):\n  File \"/miniconda3/lib/python3.8/site-packages/sagemaker_xgboost_container/algorithm_mode/train.py\", line 278, in train_job\n    bst = xgb.train(\n  File \"/miniconda3/lib/python3.8/site-packages/xgboost/training.py\", line 188, in train\n    bst = _train_internal(params, dtrain,\n  File \"/miniconda3/lib/python3.8/site-packages/xgboost/training.py\", line 81, in _train_internal\n    bst.update(dtrain, i, obj)\n  File \"/miniconda3/lib/python3.8/site-packages/xgboost/core.py\", line 1680, in update\n    _check_call(_LIB.XGBoosterUpdateOneIter(self.handle,\n  File \"/miniconda3/lib/python3.8/site-packages/xgboost/core.py\", line 218, in _check_call\n    raise XGBoostError(py_str(_LIB.XGBGetLastError()))\nxgboost.core.XGBoostError: [15:41:26] ../src/objective/regression_obj.cu:120: label must be in [0,1] for logistic regression\nStack trace:\n  [bt] (0) /miniconda3/lib/python3.8/site-packages/xgboost/lib/libxgboost.so(+0x455ac9) [0x7f86d6229ac9]\n  [bt] (1) /mini",
     "output_type": "error",
     "traceback": [
      "\u001b[0;31m---------------------------------------------------------------------------\u001b[0m",
      "\u001b[0;31mUnexpectedStatusException\u001b[0m                 Traceback (most recent call last)",
      "\u001b[0;32m/tmp/ipykernel_10857/2429098801.py\u001b[0m in \u001b[0;36m<cell line: 1>\u001b[0;34m()\u001b[0m\n\u001b[0;32m----> 1\u001b[0;31m \u001b[0mxgb\u001b[0m\u001b[0;34m.\u001b[0m\u001b[0mfit\u001b[0m\u001b[0;34m(\u001b[0m\u001b[0;34m{\u001b[0m\u001b[0;34m\"train\"\u001b[0m\u001b[0;34m:\u001b[0m \u001b[0ms3_input_train\u001b[0m\u001b[0;34m,\u001b[0m \u001b[0;34m\"validation\"\u001b[0m\u001b[0;34m:\u001b[0m \u001b[0ms3_input_validation\u001b[0m\u001b[0;34m}\u001b[0m\u001b[0;34m)\u001b[0m\u001b[0;34m\u001b[0m\u001b[0;34m\u001b[0m\u001b[0m\n\u001b[0m",
      "\u001b[0;32m~/anaconda3/envs/python3/lib/python3.8/site-packages/sagemaker/workflow/pipeline_context.py\u001b[0m in \u001b[0;36mwrapper\u001b[0;34m(*args, **kwargs)\u001b[0m\n\u001b[1;32m    270\u001b[0m             \u001b[0;32mreturn\u001b[0m \u001b[0m_StepArguments\u001b[0m\u001b[0;34m(\u001b[0m\u001b[0mretrieve_caller_name\u001b[0m\u001b[0;34m(\u001b[0m\u001b[0mself_instance\u001b[0m\u001b[0;34m)\u001b[0m\u001b[0;34m,\u001b[0m \u001b[0mrun_func\u001b[0m\u001b[0;34m,\u001b[0m \u001b[0;34m*\u001b[0m\u001b[0margs\u001b[0m\u001b[0;34m,\u001b[0m \u001b[0;34m**\u001b[0m\u001b[0mkwargs\u001b[0m\u001b[0;34m)\u001b[0m\u001b[0;34m\u001b[0m\u001b[0;34m\u001b[0m\u001b[0m\n\u001b[1;32m    271\u001b[0m \u001b[0;34m\u001b[0m\u001b[0m\n\u001b[0;32m--> 272\u001b[0;31m         \u001b[0;32mreturn\u001b[0m \u001b[0mrun_func\u001b[0m\u001b[0;34m(\u001b[0m\u001b[0;34m*\u001b[0m\u001b[0margs\u001b[0m\u001b[0;34m,\u001b[0m \u001b[0;34m**\u001b[0m\u001b[0mkwargs\u001b[0m\u001b[0;34m)\u001b[0m\u001b[0;34m\u001b[0m\u001b[0;34m\u001b[0m\u001b[0m\n\u001b[0m\u001b[1;32m    273\u001b[0m \u001b[0;34m\u001b[0m\u001b[0m\n\u001b[1;32m    274\u001b[0m     \u001b[0;32mreturn\u001b[0m \u001b[0mwrapper\u001b[0m\u001b[0;34m\u001b[0m\u001b[0;34m\u001b[0m\u001b[0m\n",
      "\u001b[0;32m~/anaconda3/envs/python3/lib/python3.8/site-packages/sagemaker/estimator.py\u001b[0m in \u001b[0;36mfit\u001b[0;34m(self, inputs, wait, logs, job_name, experiment_config)\u001b[0m\n\u001b[1;32m   1126\u001b[0m         \u001b[0mself\u001b[0m\u001b[0;34m.\u001b[0m\u001b[0mjobs\u001b[0m\u001b[0;34m.\u001b[0m\u001b[0mappend\u001b[0m\u001b[0;34m(\u001b[0m\u001b[0mself\u001b[0m\u001b[0;34m.\u001b[0m\u001b[0mlatest_training_job\u001b[0m\u001b[0;34m)\u001b[0m\u001b[0;34m\u001b[0m\u001b[0;34m\u001b[0m\u001b[0m\n\u001b[1;32m   1127\u001b[0m         \u001b[0;32mif\u001b[0m \u001b[0mwait\u001b[0m\u001b[0;34m:\u001b[0m\u001b[0;34m\u001b[0m\u001b[0;34m\u001b[0m\u001b[0m\n\u001b[0;32m-> 1128\u001b[0;31m             \u001b[0mself\u001b[0m\u001b[0;34m.\u001b[0m\u001b[0mlatest_training_job\u001b[0m\u001b[0;34m.\u001b[0m\u001b[0mwait\u001b[0m\u001b[0;34m(\u001b[0m\u001b[0mlogs\u001b[0m\u001b[0;34m=\u001b[0m\u001b[0mlogs\u001b[0m\u001b[0;34m)\u001b[0m\u001b[0;34m\u001b[0m\u001b[0;34m\u001b[0m\u001b[0m\n\u001b[0m\u001b[1;32m   1129\u001b[0m \u001b[0;34m\u001b[0m\u001b[0m\n\u001b[1;32m   1130\u001b[0m     \u001b[0;32mdef\u001b[0m \u001b[0m_compilation_job_name\u001b[0m\u001b[0;34m(\u001b[0m\u001b[0mself\u001b[0m\u001b[0;34m)\u001b[0m\u001b[0;34m:\u001b[0m\u001b[0;34m\u001b[0m\u001b[0;34m\u001b[0m\u001b[0m\n",
      "\u001b[0;32m~/anaconda3/envs/python3/lib/python3.8/site-packages/sagemaker/estimator.py\u001b[0m in \u001b[0;36mwait\u001b[0;34m(self, logs)\u001b[0m\n\u001b[1;32m   2240\u001b[0m         \u001b[0;31m# If logs are requested, call logs_for_jobs.\u001b[0m\u001b[0;34m\u001b[0m\u001b[0;34m\u001b[0m\u001b[0;34m\u001b[0m\u001b[0m\n\u001b[1;32m   2241\u001b[0m         \u001b[0;32mif\u001b[0m \u001b[0mlogs\u001b[0m \u001b[0;34m!=\u001b[0m \u001b[0;34m\"None\"\u001b[0m\u001b[0;34m:\u001b[0m\u001b[0;34m\u001b[0m\u001b[0;34m\u001b[0m\u001b[0m\n\u001b[0;32m-> 2242\u001b[0;31m             \u001b[0mself\u001b[0m\u001b[0;34m.\u001b[0m\u001b[0msagemaker_session\u001b[0m\u001b[0;34m.\u001b[0m\u001b[0mlogs_for_job\u001b[0m\u001b[0;34m(\u001b[0m\u001b[0mself\u001b[0m\u001b[0;34m.\u001b[0m\u001b[0mjob_name\u001b[0m\u001b[0;34m,\u001b[0m \u001b[0mwait\u001b[0m\u001b[0;34m=\u001b[0m\u001b[0;32mTrue\u001b[0m\u001b[0;34m,\u001b[0m \u001b[0mlog_type\u001b[0m\u001b[0;34m=\u001b[0m\u001b[0mlogs\u001b[0m\u001b[0;34m)\u001b[0m\u001b[0;34m\u001b[0m\u001b[0;34m\u001b[0m\u001b[0m\n\u001b[0m\u001b[1;32m   2243\u001b[0m         \u001b[0;32melse\u001b[0m\u001b[0;34m:\u001b[0m\u001b[0;34m\u001b[0m\u001b[0;34m\u001b[0m\u001b[0m\n\u001b[1;32m   2244\u001b[0m             \u001b[0mself\u001b[0m\u001b[0;34m.\u001b[0m\u001b[0msagemaker_session\u001b[0m\u001b[0;34m.\u001b[0m\u001b[0mwait_for_job\u001b[0m\u001b[0;34m(\u001b[0m\u001b[0mself\u001b[0m\u001b[0;34m.\u001b[0m\u001b[0mjob_name\u001b[0m\u001b[0;34m)\u001b[0m\u001b[0;34m\u001b[0m\u001b[0;34m\u001b[0m\u001b[0m\n",
      "\u001b[0;32m~/anaconda3/envs/python3/lib/python3.8/site-packages/sagemaker/session.py\u001b[0m in \u001b[0;36mlogs_for_job\u001b[0;34m(self, job_name, wait, poll, log_type)\u001b[0m\n\u001b[1;32m   3891\u001b[0m \u001b[0;34m\u001b[0m\u001b[0m\n\u001b[1;32m   3892\u001b[0m         \u001b[0;32mif\u001b[0m \u001b[0mwait\u001b[0m\u001b[0;34m:\u001b[0m\u001b[0;34m\u001b[0m\u001b[0;34m\u001b[0m\u001b[0m\n\u001b[0;32m-> 3893\u001b[0;31m             \u001b[0mself\u001b[0m\u001b[0;34m.\u001b[0m\u001b[0m_check_job_status\u001b[0m\u001b[0;34m(\u001b[0m\u001b[0mjob_name\u001b[0m\u001b[0;34m,\u001b[0m \u001b[0mdescription\u001b[0m\u001b[0;34m,\u001b[0m \u001b[0;34m\"TrainingJobStatus\"\u001b[0m\u001b[0;34m)\u001b[0m\u001b[0;34m\u001b[0m\u001b[0;34m\u001b[0m\u001b[0m\n\u001b[0m\u001b[1;32m   3894\u001b[0m             \u001b[0;32mif\u001b[0m \u001b[0mdot\u001b[0m\u001b[0;34m:\u001b[0m\u001b[0;34m\u001b[0m\u001b[0;34m\u001b[0m\u001b[0m\n\u001b[1;32m   3895\u001b[0m                 \u001b[0mprint\u001b[0m\u001b[0;34m(\u001b[0m\u001b[0;34m)\u001b[0m\u001b[0;34m\u001b[0m\u001b[0;34m\u001b[0m\u001b[0m\n",
      "\u001b[0;32m~/anaconda3/envs/python3/lib/python3.8/site-packages/sagemaker/session.py\u001b[0m in \u001b[0;36m_check_job_status\u001b[0;34m(self, job, desc, status_key_name)\u001b[0m\n\u001b[1;32m   3429\u001b[0m                     \u001b[0mactual_status\u001b[0m\u001b[0;34m=\u001b[0m\u001b[0mstatus\u001b[0m\u001b[0;34m,\u001b[0m\u001b[0;34m\u001b[0m\u001b[0;34m\u001b[0m\u001b[0m\n\u001b[1;32m   3430\u001b[0m                 )\n\u001b[0;32m-> 3431\u001b[0;31m             raise exceptions.UnexpectedStatusException(\n\u001b[0m\u001b[1;32m   3432\u001b[0m                 \u001b[0mmessage\u001b[0m\u001b[0;34m=\u001b[0m\u001b[0mmessage\u001b[0m\u001b[0;34m,\u001b[0m\u001b[0;34m\u001b[0m\u001b[0;34m\u001b[0m\u001b[0m\n\u001b[1;32m   3433\u001b[0m                 \u001b[0mallowed_statuses\u001b[0m\u001b[0;34m=\u001b[0m\u001b[0;34m[\u001b[0m\u001b[0;34m\"Completed\"\u001b[0m\u001b[0;34m,\u001b[0m \u001b[0;34m\"Stopped\"\u001b[0m\u001b[0;34m]\u001b[0m\u001b[0;34m,\u001b[0m\u001b[0;34m\u001b[0m\u001b[0;34m\u001b[0m\u001b[0m\n",
      "\u001b[0;31mUnexpectedStatusException\u001b[0m: Error for Training job sagemaker-xgboost-2022-11-13-15-37-44-854: Failed. Reason: AlgorithmError: framework error: \nTraceback (most recent call last):\n  File \"/miniconda3/lib/python3.8/site-packages/sagemaker_xgboost_container/algorithm_mode/train.py\", line 278, in train_job\n    bst = xgb.train(\n  File \"/miniconda3/lib/python3.8/site-packages/xgboost/training.py\", line 188, in train\n    bst = _train_internal(params, dtrain,\n  File \"/miniconda3/lib/python3.8/site-packages/xgboost/training.py\", line 81, in _train_internal\n    bst.update(dtrain, i, obj)\n  File \"/miniconda3/lib/python3.8/site-packages/xgboost/core.py\", line 1680, in update\n    _check_call(_LIB.XGBoosterUpdateOneIter(self.handle,\n  File \"/miniconda3/lib/python3.8/site-packages/xgboost/core.py\", line 218, in _check_call\n    raise XGBoostError(py_str(_LIB.XGBGetLastError()))\nxgboost.core.XGBoostError: [15:41:26] ../src/objective/regression_obj.cu:120: label must be in [0,1] for logistic regression\nStack trace:\n  [bt] (0) /miniconda3/lib/python3.8/site-packages/xgboost/lib/libxgboost.so(+0x455ac9) [0x7f86d6229ac9]\n  [bt] (1) /mini"
     ]
    }
   ],
   "source": [
    "xgb.fit({\"train\": s3_input_train, \"validation\": s3_input_validation})"
   ]
  },
  {
   "cell_type": "markdown",
   "id": "516df91c",
   "metadata": {},
   "source": [
    "I fixed the reource error but was not sure how to fix this one."
   ]
  },
  {
   "cell_type": "markdown",
   "id": "0412fe7e",
   "metadata": {},
   "source": [
    "## Plan B\n",
    "Let's try using RandomForest from Sklearn."
   ]
  },
  {
   "cell_type": "code",
   "execution_count": 18,
   "id": "0f6798c0",
   "metadata": {},
   "outputs": [],
   "source": [
    "# define a function to create accuracy \n",
    "# for each of the datasets given an input model\n",
    "from sklearn.metrics import accuracy_score\n",
    "# from sklearn.metrics import log_loss # note: log_loss is not defined inthe verion on sklearn\n",
    "def make_results(dsets, mod):\n",
    "    dfs = []\n",
    "    for name in dsets.keys():\n",
    "        X, y  = dsets[name]\n",
    "        rd = {}\n",
    "        ypred = mod.predict(X.values)\n",
    "        acc = accuracy_score(ypred, y.to_numpy().ravel())\n",
    "        proba = mod.predict_proba(X.values)\n",
    "        score = mod.score(X.values, y)\n",
    "        rd[\"acc\"] = acc\n",
    "        rdf = pd.DataFrame(rd, index=[0])\n",
    "        rdf[\"ds\"] = name\n",
    "        dfs.append(rdf)\n",
    "    res_df = pd.concat(dfs)    \n",
    "    return res_df"
   ]
  },
  {
   "cell_type": "markdown",
   "id": "215f8905",
   "metadata": {},
   "source": [
    "Create the 3 X and y data sets"
   ]
  },
  {
   "cell_type": "code",
   "execution_count": 19,
   "id": "e3d582dd",
   "metadata": {},
   "outputs": [],
   "source": [
    "ycol = \"Churn?\"\n",
    "xcols = [c for c in churn if c != ycol]\n",
    "Xtrain = train[xcols]\n",
    "ytrain = train[ycol]\n",
    "Xval = validation[xcols]\n",
    "yval = validation[ycol]\n",
    "Xtest = test[xcols]\n",
    "ytest = test[ycol]"
   ]
  },
  {
   "cell_type": "markdown",
   "id": "fd62c660",
   "metadata": {},
   "source": [
    "define a dictionary containing the the train, val and test sets, bot X and y for each\n",
    " and check the size of each  \n",
    "I will use this in calling the function make_results above\n",
    "to get metrics on each data set"
   ]
  },
  {
   "cell_type": "code",
   "execution_count": 20,
   "id": "8939c6e1",
   "metadata": {},
   "outputs": [
    {
     "name": "stdout",
     "output_type": "stream",
     "text": [
      "train X (4550, 17) y (4550,)\n",
      "val X (450, 17) y (450,)\n",
      "test X (500, 17) y (500,)\n"
     ]
    }
   ],
   "source": [
    "\n",
    "ds_dict = {\"train\" : (Xtrain, ytrain),\n",
    "            \"val\" : (Xval, yval),\n",
    "            \"test\": (Xtest, ytest)}\n",
    "for ds in ds_dict.keys():\n",
    "    X, y = ds_dict[ds]\n",
    "    print(f\"\"\"{ds} X {X.shape} y {y.shape}\"\"\")"
   ]
  },
  {
   "cell_type": "code",
   "execution_count": 21,
   "id": "d35da7ea",
   "metadata": {},
   "outputs": [],
   "source": [
    "# set the parameters to search over.\n",
    "\n",
    "from sklearn.ensemble import RandomForestClassifier\n",
    "from sklearn.model_selection import  GridSearchCV \n",
    "\n",
    "param_grid = {\n",
    "    \"n_estimators\": [50, 100, 250,  ],\n",
    "    \"max_depth\": [ 20, 30],\n",
    "     \"min_samples_leaf\": [ 3, 5],\n",
    "    \"criterion\" : [\"entropy\"], # \"log_loss\"]   \n",
    "}"
   ]
  },
  {
   "cell_type": "markdown",
   "id": "fd06fa58",
   "metadata": {},
   "source": [
    "Run the sklearn GridSearch algorithm to find the best parameters.\n",
    "snd save the best fitting set of parameters"
   ]
  },
  {
   "cell_type": "code",
   "execution_count": 22,
   "id": "5c931eb3",
   "metadata": {},
   "outputs": [
    {
     "name": "stdout",
     "output_type": "stream",
     "text": [
      "Fitting 5 folds for each of 12 candidates, totalling 60 fits\n",
      "search time 84.982004\n"
     ]
    }
   ],
   "source": [
    "start = datetime.datetime.now()\n",
    "grid_rf = GridSearchCV(\n",
    "    RandomForestClassifier(), param_grid=param_grid,\n",
    "    scoring=\"accuracy\",\n",
    "    refit=True,\n",
    "    cv=5\n",
    "    ,verbose=True\n",
    "    , error_score = \"raise\"\n",
    ")\n",
    "\n",
    "rf_fit = grid_rf.fit(Xtrain.values, ytrain.to_numpy().ravel())\n",
    "end = datetime.datetime.now()\n",
    "print(f\"search time {(end-start).total_seconds()}\")"
   ]
  },
  {
   "cell_type": "code",
   "execution_count": 23,
   "id": "04355820",
   "metadata": {},
   "outputs": [
    {
     "name": "stdout",
     "output_type": "stream",
     "text": [
      "{'criterion': 'entropy', 'max_depth': 30, 'min_samples_leaf': 3, 'n_estimators': 250}\n",
      "\n",
      "Accuracy on the 3 data sets\n",
      "\n"
     ]
    },
    {
     "data": {
      "text/html": [
       "<div>\n",
       "<style scoped>\n",
       "    .dataframe tbody tr th:only-of-type {\n",
       "        vertical-align: middle;\n",
       "    }\n",
       "\n",
       "    .dataframe tbody tr th {\n",
       "        vertical-align: top;\n",
       "    }\n",
       "\n",
       "    .dataframe thead th {\n",
       "        text-align: right;\n",
       "    }\n",
       "</style>\n",
       "<table border=\"1\" class=\"dataframe\">\n",
       "  <thead>\n",
       "    <tr style=\"text-align: right;\">\n",
       "      <th></th>\n",
       "      <th>acc</th>\n",
       "      <th>ds</th>\n",
       "    </tr>\n",
       "  </thead>\n",
       "  <tbody>\n",
       "    <tr>\n",
       "      <th>0</th>\n",
       "      <td>0.992747</td>\n",
       "      <td>train</td>\n",
       "    </tr>\n",
       "    <tr>\n",
       "      <th>0</th>\n",
       "      <td>0.926667</td>\n",
       "      <td>val</td>\n",
       "    </tr>\n",
       "    <tr>\n",
       "      <th>0</th>\n",
       "      <td>0.994000</td>\n",
       "      <td>test</td>\n",
       "    </tr>\n",
       "  </tbody>\n",
       "</table>\n",
       "</div>"
      ],
      "text/plain": [
       "        acc     ds\n",
       "0  0.992747  train\n",
       "0  0.926667    val\n",
       "0  0.994000   test"
      ]
     },
     "execution_count": 23,
     "metadata": {},
     "output_type": "execute_result"
    }
   ],
   "source": [
    "best_rf = rf_fit.best_estimator_\n",
    "rf_res = make_results(ds_dict, mod=best_rf)\n",
    "print(rf_fit.best_params_)\n",
    "print (\"\\nAccuracy on the 3 data sets\\n\")\n",
    "rf_res"
   ]
  },
  {
   "cell_type": "markdown",
   "id": "b70a8c9e",
   "metadata": {},
   "source": [
    "Note that I used \"X.values\" instead of just X in the fitting and eval functions.\n",
    "If not, it generated errors in the fittting.\n",
    " "
   ]
  },
  {
   "cell_type": "code",
   "execution_count": 24,
   "id": "18c22df6",
   "metadata": {},
   "outputs": [
    {
     "data": {
      "text/plain": [
       "RandomForestClassifier(criterion='entropy', max_depth=30, min_samples_leaf=3,\n",
       "                       n_estimators=250)"
      ]
     },
     "execution_count": 24,
     "metadata": {},
     "output_type": "execute_result"
    }
   ],
   "source": [
    "# So ... what were the best parameters\n",
    "best_rf"
   ]
  },
  {
   "cell_type": "code",
   "execution_count": 25,
   "id": "deebc794",
   "metadata": {},
   "outputs": [
    {
     "name": "stdout",
     "output_type": "stream",
     "text": [
      "\n",
      " Cross tab on the test data set\n",
      "\n"
     ]
    },
    {
     "data": {
      "text/html": [
       "<div>\n",
       "<style scoped>\n",
       "    .dataframe tbody tr th:only-of-type {\n",
       "        vertical-align: middle;\n",
       "    }\n",
       "\n",
       "    .dataframe tbody tr th {\n",
       "        vertical-align: top;\n",
       "    }\n",
       "\n",
       "    .dataframe thead th {\n",
       "        text-align: right;\n",
       "    }\n",
       "</style>\n",
       "<table border=\"1\" class=\"dataframe\">\n",
       "  <thead>\n",
       "    <tr style=\"text-align: right;\">\n",
       "      <th>predictions</th>\n",
       "      <th>0</th>\n",
       "      <th>1</th>\n",
       "    </tr>\n",
       "    <tr>\n",
       "      <th>actual</th>\n",
       "      <th></th>\n",
       "      <th></th>\n",
       "    </tr>\n",
       "  </thead>\n",
       "  <tbody>\n",
       "    <tr>\n",
       "      <th>0</th>\n",
       "      <td>227</td>\n",
       "      <td>1</td>\n",
       "    </tr>\n",
       "    <tr>\n",
       "      <th>1</th>\n",
       "      <td>2</td>\n",
       "      <td>270</td>\n",
       "    </tr>\n",
       "  </tbody>\n",
       "</table>\n",
       "</div>"
      ],
      "text/plain": [
       "predictions    0    1\n",
       "actual               \n",
       "0            227    1\n",
       "1              2  270"
      ]
     },
     "execution_count": 25,
     "metadata": {},
     "output_type": "execute_result"
    }
   ],
   "source": [
    "print (\"\\n Cross tab on the test data set\\n\")\n",
    "predictions = best_rf.predict(Xtest.values)\n",
    "pd.crosstab(\n",
    "    index=ytest,\n",
    "    columns=np.round(predictions),\n",
    "    rownames=[\"actual\"],\n",
    "    colnames=[\"predictions\"],\n",
    ")\n"
   ]
  },
  {
   "cell_type": "markdown",
   "id": "d73af275",
   "metadata": {},
   "source": [
    "Above is the crosstab from my run.\n",
    "We slightly outperform the results from the example, but on only by a little.\n",
    "\n",
    "The boost in performance could be due to the grid search over the params\n",
    "but I suspect, or it could be just random."
   ]
  },
  {
   "cell_type": "markdown",
   "id": "41860058",
   "metadata": {},
   "source": [
    "# Summary\n",
    "\n",
    "I was mainly interested incomparing this AWS notebook environment to Google's colab.\n",
    "\n",
    "The AWS environment was fairly easy to get up and running and seemed to have many\n",
    "packages installed ... although the sklearn was a bit old. It was also disappointing that the example from the AWS sight did not work as is.\n",
    "\n",
    "Also, the Github integration seemed much more involved with AWS than it does with Colab.\n",
    "\n",
    "I have read that you get more powerful machines with the free tier on AWS than you do with Colab, but I am not sure of that.\n",
    "\n",
    "In summary, right now I would prefer to use Colab unless I needed some specific functionality from AWS or Sagemaker.\n"
   ]
  },
  {
   "cell_type": "code",
   "execution_count": null,
   "id": "a7d6b593",
   "metadata": {},
   "outputs": [],
   "source": []
  }
 ],
 "metadata": {
  "kernelspec": {
   "display_name": "conda_python3",
   "language": "python",
   "name": "conda_python3"
  },
  "language_info": {
   "codemirror_mode": {
    "name": "ipython",
    "version": 3
   },
   "file_extension": ".py",
   "mimetype": "text/x-python",
   "name": "python",
   "nbconvert_exporter": "python",
   "pygments_lexer": "ipython3",
   "version": "3.8.12"
  }
 },
 "nbformat": 4,
 "nbformat_minor": 5
}
